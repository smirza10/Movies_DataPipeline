{
 "metadata": {
  "language_info": {
   "codemirror_mode": {
    "name": "ipython",
    "version": 3
   },
   "file_extension": ".py",
   "mimetype": "text/x-python",
   "name": "python",
   "nbconvert_exporter": "python",
   "pygments_lexer": "ipython3",
   "version": "3.8.3-final"
  },
  "orig_nbformat": 2,
  "kernelspec": {
   "name": "python3",
   "display_name": "Python 3.8.3 64-bit ('base': conda)",
   "metadata": {
    "interpreter": {
     "hash": "dca0ade3e726a953b501b15e8e990130d2b7799f14cfd9f4271676035ebe5511"
    }
   }
  }
 },
 "nbformat": 4,
 "nbformat_minor": 2,
 "cells": [
  {
   "cell_type": "code",
   "execution_count": 1,
   "metadata": {},
   "outputs": [],
   "source": [
    "#reading in data\n",
    "import pandas as pd \n",
    "import numpy as np \n",
    "import ast\n",
    "data = pd.read_csv('movies_metadata_sample.csv', converters= {'genres' : ast.literal_eval})\n",
    "df = data.explode('genres')"
   ]
  },
  {
   "cell_type": "code",
   "execution_count": 2,
   "metadata": {},
   "outputs": [
    {
     "output_type": "stream",
     "name": "stdout",
     "text": [
      "Missing values per column:\n",
      "adult                        0\n",
      "belongs_to_collection     9871\n",
      "budget                       0\n",
      "genres                     106\n",
      "homepage                 11300\n",
      "id                           0\n",
      "imdb_id                      0\n",
      "original_language            0\n",
      "original_title               0\n",
      "overview                    31\n",
      "popularity                   0\n",
      "poster_path                 27\n",
      "production_companies         0\n",
      "production_countries         0\n",
      "release_date                 4\n",
      "revenue                      0\n",
      "runtime                      6\n",
      "spoken_languages             0\n",
      "status                       8\n",
      "tagline                   2618\n",
      "title                        0\n",
      "video                        0\n",
      "vote_average                 0\n",
      "vote_count                   0\n",
      "dtype: int64\n",
      "\n",
      "Missing values per row:\n",
      "0    3\n",
      "0    3\n",
      "1    2\n",
      "1    2\n",
      "2    2\n",
      "dtype: int64\n"
     ]
    }
   ],
   "source": [
    "#create a function that searches for missing values\n",
    "def missing(x):\n",
    "    return sum(x.isnull())\n",
    "\n",
    "#applying per column\n",
    "print (\"Missing values per column:\")\n",
    "print (df.apply(missing, axis =0))\n",
    "\n",
    "#applying per row\n",
    "print (\"\\nMissing values per row:\")\n",
    "print (df.apply(missing, axis =1).head())"
   ]
  },
  {
   "cell_type": "code",
   "execution_count": 3,
   "metadata": {},
   "outputs": [],
   "source": [
    "#Creating a column called year and filling it with year of movie\n",
    "df['year'] = pd.DatetimeIndex(df['release_date']).year\n",
    "\n",
    "#finding missing values for year\n",
    "df['year'] = df['year'].replace(np.nan, 0)\n",
    "missingYear = df.loc[(df['year'] == 0), ['id', 'title', 'genres', 'year']]\n",
    "\n",
    "#replacing values for missing years\n",
    "df.loc[df.id == 365371, ['year', 'genres']] = 1995, \"[{'id': 99, 'name': 'Documentary'}]\"\n",
    "df.loc[df.id == 215107, ['year', 'genres']] = 1992, \"[{'id': 35, 'name': 'Comedy'}]\"\n",
    "df.loc[df.id == 94214, 'year'] = 2000 \n",
    "df.loc[df.id == 207731, ['year', 'genres']] = 2000, \"[{'id': 18, 'name': 'Drama'}]\"\n"
   ]
  },
  {
   "cell_type": "code",
   "execution_count": 5,
   "metadata": {},
   "outputs": [],
   "source": [
    "#converting genres to a string from object\n",
    "data2 = df['genres'].astype(str)\n",
    "\n",
    "#splitting genres id and name into new columns called gid, genre\n",
    "data3 = pd.DataFrame(data2.str.split(',').tolist(), columns = ['gid', 'genre'])\n",
    "\n",
    "#removing all parts of genre column except the genre name\n",
    "data3['genre'] = data3['genre'].map(lambda x: x and x.lstrip(\"'name': '\").rstrip(\"'}\"))\n"
   ]
  },
  {
   "cell_type": "code",
   "execution_count": 6,
   "metadata": {},
   "outputs": [],
   "source": [
    "#resetting df index to get rid of duplicate values\n",
    "df.reset_index(inplace= True)\n",
    "#merging the year onto the updated datafram\n",
    "data3['year'] = df['year'].astype(int)"
   ]
  },
  {
   "cell_type": "code",
   "execution_count": 7,
   "metadata": {},
   "outputs": [],
   "source": [
    "#adjusting the year\n",
    "def fix_year(x):\n",
    "    if x > 2017:\n",
    "        year = x - 100\n",
    "    else:\n",
    "        year = x\n",
    "    return year\n",
    "\n",
    "data3['year'] = data3['year'].apply(fix_year)            "
   ]
  },
  {
   "cell_type": "code",
   "execution_count": 8,
   "metadata": {},
   "outputs": [],
   "source": [
    "#grouping the year and genre together with the count\n",
    "final_data= data3.groupby(['year', 'genre']).size().to_frame('count').reset_index()\n"
   ]
  },
  {
   "cell_type": "code",
   "execution_count": 9,
   "metadata": {},
   "outputs": [],
   "source": [
    "#exporting to csv file\n",
    "final_data.to_csv('Final_Output', index= False)"
   ]
  },
  {
   "cell_type": "code",
   "execution_count": null,
   "metadata": {},
   "outputs": [],
   "source": []
  }
 ]
}